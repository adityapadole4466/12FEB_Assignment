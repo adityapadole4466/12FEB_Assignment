{
 "cells": [
  {
   "cell_type": "code",
   "execution_count": 1,
   "id": "179e845a-b3d0-48c1-8dca-d1cfdbd168d9",
   "metadata": {},
   "outputs": [
    {
     "name": "stdout",
     "output_type": "stream",
     "text": [
      "Error: division by zero\n",
      "None\n"
     ]
    }
   ],
   "source": [
    "\"\"\"\n",
    "Q.1 what is an exception in python? write the difference between exceptions and syntax errors\n",
    "ANS--->\n",
    "In Python, an exception is an error that occurs during the execution of a program.\n",
    "When a program encounters an exceptional situation or error, it raises an exception \n",
    "object that contains information about the error, such as its type and message. \n",
    "This allows the program to handle the error gracefully and take appropriate action, rather than simply crashing.\n",
    "\n",
    "Exceptions can be raised by the program code itself, or they can be raised by the Python \n",
    "interpreter in response to some other problem, such as a file not being found or a division by zero.\n",
    "Some common built-in exceptions in Python include ValueError, TypeError, NameError, and ZeroDivisionError.\n",
    "\n",
    "On the other hand, a syntax error is a type of error that occurs when the Python interpreter encounters \n",
    "invalid syntax in the code. This means that the code does not conform to the syntax rules of the Python\n",
    "language, and therefore cannot be compiled and executed. Examples of syntax errors include\n",
    "missing parentheses, incorrect indentation, and misspelled keywords.\n",
    "\n",
    "The key difference between exceptions and syntax errors is that exceptions occur during the execution \n",
    "of the program, while syntax errors occur during the compilation of the program. Syntax errors prevent\n",
    "the program from running at all, while exceptions can occur at any time during program execution and\n",
    "can be caught and handled by the program. Additionally, syntax errors are always caused by problems\n",
    "with the program code itself, while exceptions can be caused by a wide range of factors, both within and \n",
    "outside the program.\n",
    "\n",
    "Q.2What happens when an exception is not handled? explain with example.\n",
    "ANS--->\n",
    "When an exception is not handled, it will propagate up the call stack until it is\n",
    "caught by an exception handler or reaches the top-level of the program, which can\n",
    "cause the program to terminate or behave unexpectedly.\n",
    "\n",
    "\n",
    "\"\"\"\n",
    "def divide(a, b):\n",
    "    try:\n",
    "        return a / b\n",
    "    except ZeroDivisionError:\n",
    "        print(\"Error: division by zero\")\n",
    "        return None\n",
    "\n",
    "result = divide(10, 0)\n",
    "print(result)"
   ]
  },
  {
   "cell_type": "code",
   "execution_count": 2,
   "id": "92243333-d4b3-4525-b1f3-851e23082b35",
   "metadata": {},
   "outputs": [
    {
     "name": "stdout",
     "output_type": "stream",
     "text": [
      "The result is: 2.5\n"
     ]
    }
   ],
   "source": [
    "\"\"\"\n",
    "Q.3 explain with an example  \n",
    "1.try and else \n",
    "2.finally \n",
    "3.raise\n",
    "ANS--->\n",
    "1.try and else:\n",
    "The try statement is used to enclose a block of code that may raise an exception. \n",
    "If an exception is raised within the try block, it is caught and processed by the corresponding except block. \n",
    "However, if no exception is raised, the else block is executed. The else block is used for code \n",
    "that should run only if no exceptions were raised.\n",
    "\n",
    "2.finally:\n",
    "The finally block is used to specify code that should be executed regardless of whether\n",
    "an exception was raised or not. This is useful for code that should always run, such as\n",
    "cleaning up resources or closing files.\n",
    "\n",
    "3.Raise: \n",
    "The raise statement is used to explicitly raise an exception. \n",
    "It is used when a condition occurs that warrants an exception, even if the code\n",
    "does not raise one automatically.\n",
    "\"\"\"\n",
    "\n",
    "\n",
    "#1.try and else:\n",
    "try:\n",
    "    a = 5\n",
    "    b = 2\n",
    "    result = a / b\n",
    "except ZeroDivisionError:\n",
    "    print(\"Cannot divide by zero!\")\n",
    "else:\n",
    "    print(\"The result is:\", result)\n"
   ]
  },
  {
   "cell_type": "code",
   "execution_count": 3,
   "id": "f5e03bda-c105-4a15-8e61-3293031f9a29",
   "metadata": {},
   "outputs": [
    {
     "name": "stdout",
     "output_type": "stream",
     "text": [
      "Cannot divide by zero!\n",
      "Result: None\n"
     ]
    }
   ],
   "source": [
    "#2.Finally\n",
    "file = None\n",
    "try:\n",
    "    file = open(\"example.txt\", \"r\")\n",
    "    # do something with the file\n",
    "finally:\n",
    "    if file is not None:\n",
    "        file.close()\n",
    "\n",
    "        \n",
    "#3.Raise\n",
    "def divide(a, b):\n",
    "    if b == 0:\n",
    "        raise ZeroDivisionError(\"Cannot divide by zero!\")\n",
    "    return a / b\n",
    "\n",
    "result = None\n",
    "try:\n",
    "    result = divide(10, 0)\n",
    "except ZeroDivisionError as e:\n",
    "    print(e)\n",
    "\n",
    "print(\"Result:\", result)\n"
   ]
  },
  {
   "cell_type": "code",
   "execution_count": 4,
   "id": "7ff7dbe6-c2f8-4852-a69a-1e422fa2afdd",
   "metadata": {},
   "outputs": [
    {
     "name": "stdout",
     "output_type": "stream",
     "text": [
      "Error: Negative number -4 is not allowed\n"
     ]
    }
   ],
   "source": [
    "\"\"\"\n",
    "Q.4 what are custom exceptions in python? why do we need custom exceptions? explain with example\n",
    "ANS--->\n",
    "  Custom exceptions in Python are user-defined exceptions that extend the built-in Exception \n",
    "class or one of its subclasses, such as ValueError or TypeError. We create custom exceptions\n",
    "to provide more meaningful and specific error messages when our code encounters an exceptional\n",
    "condition that we want to handle in a specific way.\n",
    "\n",
    "We need custom exceptions for several reasons, including:\n",
    "1.To provide more meaningful error messages: Built-in exceptions may not always provide \n",
    "the level of detail we need to debug our code. Custom exceptions allow us to provide specific\n",
    "information about what went wrong and how to fix it.\n",
    "2.To group related exceptions: When we have multiple types of exceptions that are related \n",
    "to a specific module or functionality, we can create a custom exception hierarchy to group \n",
    "them together. This makes it easier to handle and distinguish between different types of exceptions \n",
    "in our code.\n",
    "3.To customize exception handling: By creating custom exceptions,\n",
    "we can customize how exceptions are handled in our code. For example, we can catch specific\n",
    "exceptions and handle them differently from other exceptions, or we can log specific types of\n",
    "exceptions for debugging purposes.\n",
    "\"\"\"\n",
    "class NegativeNumberError(Exception):\n",
    "    def __init__(self, number):\n",
    "        self.number = number\n",
    "\n",
    "    def __str__(self):\n",
    "        return f\"Error: Negative number {self.number} is not allowed\"\n",
    "\n",
    "def square_root(number):\n",
    "    if number < 0:\n",
    "        raise NegativeNumberError(number)\n",
    "    return number ** 0.5\n",
    "\n",
    "try:\n",
    "    result = square_root(-4)\n",
    "    print(result)\n",
    "except NegativeNumberError as e:\n",
    "    print(e)\n"
   ]
  },
  {
   "cell_type": "code",
   "execution_count": 5,
   "id": "4c78d6c8-71b8-4a72-a271-2dc836c9d4a0",
   "metadata": {},
   "outputs": [
    {
     "name": "stdout",
     "output_type": "stream",
     "text": [
      "Cannot divide by zero!\n"
     ]
    }
   ],
   "source": [
    "#Q.6 Create a custom exception class. use this class to handle an exception.\n",
    "#ANS:----->\n",
    "class CustomException(Exception):\n",
    "    def __init__(self, message):\n",
    "        self.message = message\n",
    "        super().__init__(self.message)\n",
    "\n",
    "def divide_by_zero(numerator, denominator):\n",
    "    if denominator == 0:\n",
    "        raise CustomException(\"Cannot divide by zero!\")\n",
    "    return numerator / denominator\n",
    "\n",
    "try:\n",
    "    result = divide_by_zero(10, 0)\n",
    "    print(result)\n",
    "except CustomException as e:\n",
    "    print(e)\n"
   ]
  },
  {
   "cell_type": "code",
   "execution_count": null,
   "id": "1221efa8-8071-4a4b-b2b8-a03a4eb08bfe",
   "metadata": {},
   "outputs": [],
   "source": []
  }
 ],
 "metadata": {
  "kernelspec": {
   "display_name": "Python 3 (ipykernel)",
   "language": "python",
   "name": "python3"
  },
  "language_info": {
   "codemirror_mode": {
    "name": "ipython",
    "version": 3
   },
   "file_extension": ".py",
   "mimetype": "text/x-python",
   "name": "python",
   "nbconvert_exporter": "python",
   "pygments_lexer": "ipython3",
   "version": "3.10.8"
  }
 },
 "nbformat": 4,
 "nbformat_minor": 5
}
